{
 "cells": [
  {
   "cell_type": "markdown",
   "id": "b9664dc1",
   "metadata": {},
   "source": [
    "# Graduate Admission Prediction"
   ]
  },
  {
   "cell_type": "markdown",
   "id": "49116f4b",
   "metadata": {},
   "source": [
    "# About Dataset\n",
    "- Context\n",
    "This dataset is created for prediction of Graduate Admissions from an Indian perspective.\n",
    "\n",
    "- Content\n",
    "The dataset contains several parameters which are considered important during the application for Masters Programs.\n",
    "The parameters included are :\n",
    "\n",
    "GRE Scores ( out of 340 )\n",
    "\n",
    "TOEFL Scores ( out of 120 )\n",
    "\n",
    "University Rating ( out of 5 )\n",
    "\n",
    "Statement of Purpose and Letter of Recommendation Strength ( out of 5 )\n",
    "\n",
    "Undergraduate GPA ( out of 10 )\n",
    "\n",
    "Research Experience ( either 0 or 1 )\n",
    "\n",
    "Chance of Admit ( ranging from 0 to 1 )\n"
   ]
  },
  {
   "cell_type": "code",
   "execution_count": null,
   "id": "09e67689",
   "metadata": {},
   "outputs": [],
   "source": []
  }
 ],
 "metadata": {
  "kernelspec": {
   "display_name": "Python 3 (ipykernel)",
   "language": "python",
   "name": "python3"
  },
  "language_info": {
   "codemirror_mode": {
    "name": "ipython",
    "version": 3
   },
   "file_extension": ".py",
   "mimetype": "text/x-python",
   "name": "python",
   "nbconvert_exporter": "python",
   "pygments_lexer": "ipython3",
   "version": "3.10.4"
  }
 },
 "nbformat": 4,
 "nbformat_minor": 5
}
